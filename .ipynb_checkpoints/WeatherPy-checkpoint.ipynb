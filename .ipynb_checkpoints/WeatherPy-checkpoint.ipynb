{
 "cells": [
  {
   "cell_type": "code",
   "execution_count": 24,
   "metadata": {},
   "outputs": [],
   "source": [
    "#Dependencies\n",
    "from citipy import citipy\n",
    "import numpy as np\n",
    "from random import uniform\n"
   ]
  },
  {
   "cell_type": "code",
   "execution_count": 25,
   "metadata": {},
   "outputs": [
    {
     "name": "stdout",
     "output_type": "stream",
     "text": [
      "punta arenas cl\n",
      "saint-pierre re\n",
      "asau tv\n",
      "maridi sd\n",
      "mahebourg mu\n",
      "['punta arenas', 'saint-pierre', 'asau', 'maridi', 'mahebourg']\n"
     ]
    }
   ],
   "source": [
    "#Get a list of random cities from the citipy library\n",
    "#intialize empty cities list\n",
    "cities = []\n",
    "\n",
    "for x in range (5):\n",
    "    lat = np.random.uniform(-90.000, 90.000)\n",
    "    lon = np.random.uniform(-180.000,180.000)\n",
    "    city = citipy.nearest_city(lat,lon)\n",
    "    city_name = city.city_name\n",
    "    country_code = city.country_code\n",
    "    cities.append(city_name)\n",
    "\n",
    "    print(city_name, country_code)\n",
    "    \n",
    "print (cities)"
   ]
  },
  {
   "cell_type": "code",
   "execution_count": null,
   "metadata": {},
   "outputs": [],
   "source": [
    "\n",
    "\n",
    "\n"
   ]
  },
  {
   "cell_type": "code",
   "execution_count": 51,
   "metadata": {},
   "outputs": [],
   "source": [
    "#Build for loop with random generator"
   ]
  },
  {
   "cell_type": "code",
   "execution_count": null,
   "metadata": {},
   "outputs": [],
   "source": []
  },
  {
   "cell_type": "code",
   "execution_count": null,
   "metadata": {},
   "outputs": [],
   "source": []
  }
 ],
 "metadata": {
  "kernelspec": {
   "display_name": "Python 3",
   "language": "python",
   "name": "python3"
  },
  "language_info": {
   "codemirror_mode": {
    "name": "ipython",
    "version": 3
   },
   "file_extension": ".py",
   "mimetype": "text/x-python",
   "name": "python",
   "nbconvert_exporter": "python",
   "pygments_lexer": "ipython3",
   "version": "3.7.1"
  }
 },
 "nbformat": 4,
 "nbformat_minor": 2
}
