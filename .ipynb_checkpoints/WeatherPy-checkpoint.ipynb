{
 "cells": [
  {
   "cell_type": "code",
   "execution_count": 28,
   "metadata": {},
   "outputs": [],
   "source": [
    "#Dependencies\n",
    "from citipy import citipy\n",
    "import numpy as np\n",
    "from random import uniform\n"
   ]
  },
  {
   "cell_type": "code",
   "execution_count": 51,
   "metadata": {},
   "outputs": [
    {
     "name": "stdout",
     "output_type": "stream",
     "text": [
      "['atuona', 'aurillac', 'avarua', 'azuaga', 'barrow', 'belmonte', 'belushya guba', 'bingol', 'bluff', 'chernyshevskiy', 'chumikan', 'chuy', 'east london', 'faya', 'hobart', 'illoqqortoormiut', 'jalu', 'khatanga', 'kodiak', 'kyra', 'la ronge', 'lavrentiya', 'lorengau', 'mataura', 'menongue', 'new norfolk', 'nizhneyansk', 'novopokrovka', 'palabuhanratu', 'pevek', 'ponta do sol', 'port alfred', 'provideniya', 'puerto ayora', 'qaanaaq', 'ribeira grande', 'rikitea', 'sorvag', 'sumbawa', 'turiacu', 'ushuaia', 'vaini', 'vangaindrano', 'vao']\n"
     ]
    }
   ],
   "source": [
    "#Get a list of random cities from the citipy library\n",
    "#intialize empty lists: cities, cities_final\n",
    "cities = []\n",
    "cities_final = []\n",
    "\n",
    "#Loop for a certain amount of times\n",
    "for x in range (50):\n",
    "    #set random coordinate values (latitude and longitude)\n",
    "    lat = np.random.uniform(-90.000, 90.000)\n",
    "    lon = np.random.uniform(-180.000,180.000)\n",
    "    #Find city closest to the coordinate values: Use Citipy library\n",
    "    city_obj = citipy.nearest_city(lat,lon)\n",
    "    #Set variables city_name, country_code; to the name of the city and the country code for that city\n",
    "    city_name = city_obj.city_name\n",
    "    country_code = city_obj.country_code\n",
    "    #Add the city_name to the cities list only if it's not already in the list\n",
    "    if city_name not in cities:\n",
    "        cities.append(city_name)\n",
    "    \n",
    "    #print(city_name, country_code)\n",
    "    \n",
    "#sort the list of cities\n",
    "cities = sorted(cities)\n",
    "\n",
    "print(cities)\n",
    "\n",
    "\n"
   ]
  },
  {
   "cell_type": "code",
   "execution_count": null,
   "metadata": {},
   "outputs": [],
   "source": [
    "#Create variables for query url, query url, city_url\n",
    "\n",
    "\n"
   ]
  },
  {
   "cell_type": "code",
   "execution_count": 51,
   "metadata": {},
   "outputs": [],
   "source": [
    "#For loop to iteratively call API: make sure to use time out (1second)"
   ]
  },
  {
   "cell_type": "code",
   "execution_count": null,
   "metadata": {},
   "outputs": [],
   "source": []
  },
  {
   "cell_type": "code",
   "execution_count": null,
   "metadata": {},
   "outputs": [],
   "source": []
  }
 ],
 "metadata": {
  "kernelspec": {
   "display_name": "Python 3",
   "language": "python",
   "name": "python3"
  },
  "language_info": {
   "codemirror_mode": {
    "name": "ipython",
    "version": 3
   },
   "file_extension": ".py",
   "mimetype": "text/x-python",
   "name": "python",
   "nbconvert_exporter": "python",
   "pygments_lexer": "ipython3",
   "version": "3.7.1"
  }
 },
 "nbformat": 4,
 "nbformat_minor": 2
}
