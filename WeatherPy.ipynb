{
 "cells": [
  {
   "cell_type": "code",
   "execution_count": 45,
   "metadata": {},
   "outputs": [],
   "source": [
    "#----------------Dependencies----------------#\n",
    "\n",
    "#City and Weather Data:\n",
    "from citipy import citipy \n",
    "import openweathermapy as owm #decided not to use this\n",
    "\n",
    "#Analysis/Plotting Tools:\n",
    "import pandas as pd\n",
    "import matplotlib.pyplot as plt\n",
    "\n",
    "#Mathematical tools:\n",
    "from random import uniform\n",
    "from time import sleep\n",
    "import numpy as np\n",
    "\n",
    "#Query Tools:\n",
    "from config import api_key\n",
    "import requests\n",
    "import json\n",
    "from pprint import pprint as pp\n",
    "\n",
    "#----------------Dependencies----------------#"
   ]
  },
  {
   "cell_type": "markdown",
   "metadata": {},
   "source": [
    "#### The List of Cities We Want Data For"
   ]
  },
  {
   "cell_type": "code",
   "execution_count": 48,
   "metadata": {},
   "outputs": [
    {
     "data": {
      "text/html": [
       "<div>\n",
       "<style scoped>\n",
       "    .dataframe tbody tr th:only-of-type {\n",
       "        vertical-align: middle;\n",
       "    }\n",
       "\n",
       "    .dataframe tbody tr th {\n",
       "        vertical-align: top;\n",
       "    }\n",
       "\n",
       "    .dataframe thead th {\n",
       "        text-align: right;\n",
       "    }\n",
       "</style>\n",
       "<table border=\"1\" class=\"dataframe\">\n",
       "  <thead>\n",
       "    <tr style=\"text-align: right;\">\n",
       "      <th></th>\n",
       "      <th>City</th>\n",
       "      <th>Country</th>\n",
       "    </tr>\n",
       "  </thead>\n",
       "  <tbody>\n",
       "    <tr>\n",
       "      <th>0</th>\n",
       "      <td>Saint-georges</td>\n",
       "      <td>GF</td>\n",
       "    </tr>\n",
       "    <tr>\n",
       "      <th>1</th>\n",
       "      <td>Ushuaia</td>\n",
       "      <td>AR</td>\n",
       "    </tr>\n",
       "    <tr>\n",
       "      <th>2</th>\n",
       "      <td>Georgetown</td>\n",
       "      <td>SH</td>\n",
       "    </tr>\n",
       "    <tr>\n",
       "      <th>3</th>\n",
       "      <td>Boende</td>\n",
       "      <td>CD</td>\n",
       "    </tr>\n",
       "    <tr>\n",
       "      <th>4</th>\n",
       "      <td>Cacule</td>\n",
       "      <td>BR</td>\n",
       "    </tr>\n",
       "  </tbody>\n",
       "</table>\n",
       "</div>"
      ],
      "text/plain": [
       "            City Country\n",
       "0  Saint-georges      GF\n",
       "1        Ushuaia      AR\n",
       "2     Georgetown      SH\n",
       "3         Boende      CD\n",
       "4         Cacule      BR"
      ]
     },
     "execution_count": 48,
     "metadata": {},
     "output_type": "execute_result"
    }
   ],
   "source": [
    "#Generate a random list of Cities\n",
    "\n",
    "#intialize empty lists: cities, countries, current_temperature, humidity, cloudiness, wind_speed\n",
    "\n",
    "cities = []\n",
    "countries = []\n",
    "\n",
    "#Loop for a certain amount of times\n",
    "for x in range (5):\n",
    "    #set random coordinate values (latitude and longitude)\n",
    "    lat = np.random.uniform(-90.000, 90.000)\n",
    "    lon = np.random.uniform(-180.000,180.000)\n",
    "   \n",
    "    #Find city closest to the coordinate values: Use Citipy library\n",
    "    city_obj = citipy.nearest_city(lat,lon)\n",
    "    \n",
    "    #Set variables city_name, country_code; to the name of the city and the country code for that city\n",
    "    city_name = city_obj.city_name\n",
    "    country_code = city_obj.country_code\n",
    "    \n",
    "    #Add the city_name to the cities list only if it's not already in the list\n",
    "    if city_name not in cities:\n",
    "        cities.append(city_name)\n",
    "        countries.append(country_code)\n",
    "    \n",
    "    \n",
    "#Test print of lists\n",
    "#print(cities)\n",
    "#print(countries)\n",
    "\n"
   ]
  },
  {
   "cell_type": "code",
   "execution_count": 50,
   "metadata": {},
   "outputs": [
    {
     "name": "stdout",
     "output_type": "stream",
     "text": [
      "Now finding Data for saint-georges.\n",
      "Now finding Data for ushuaia.\n",
      "Now finding Data for georgetown.\n",
      "Now finding Data for boende.\n",
      "Now finding Data for cacule.\n"
     ]
    }
   ],
   "source": [
    "#API call stuff\n",
    "\n",
    "url = \"http://api.openweathermap.org/data/2.5/weather?\"\n",
    "city_name = \"\"\n",
    "query_url = url + \"appid=\" + api_key + \"&q=\" + city_name + \"&units=imperial\"\n",
    "\n",
    "\n",
    "for city in cities:\n",
    "\n",
    "    print(f\"Now finding Data for {city}.\")\n",
    "#    weather_response = requests.get(query_url)\n",
    "#    weather_json = weather_response.json()\n",
    "#\n",
    "#    temperature = weather_json['main']['temp']\n",
    "#    humidity = weather_json['main']['humidity']\n",
    "#    cloudiness = weather_json['clouds']['all']\n",
    "#    wind_speed = weather_json['wind']['speed']\n",
    "#\n",
    "#print(temperature, humidity, cloudiness, wind_speed)\n",
    "#pp(weather_json)\n"
   ]
  },
  {
   "cell_type": "code",
   "execution_count": 4,
   "metadata": {},
   "outputs": [],
   "source": [
    "#For loop to iteratively call API: make sure to use time out (1second)\n",
    "current_temperature = []\n",
    "humidity = []\n",
    "cloudiness = []\n",
    "wind_speed = []\n"
   ]
  },
  {
   "cell_type": "code",
   "execution_count": null,
   "metadata": {},
   "outputs": [],
   "source": [
    "#Create dictionary from lists: combined_dict\n",
    "combined_dict = {\"City\": cities,\n",
    "                 \"Country\": countries\n",
    "                }\n",
    "combined_dict\n",
    "\n",
    "#Create DataFrame from combined_dict: city_data_df\n",
    "city_data_df = pd.DataFrame(combined_dict)\n",
    "\n",
    "#Capitalize the first letter of cities in city and all letters of the country\n",
    "city_data_df[\"City\"] = city_data_df[\"City\"].str.capitalize()\n",
    "city_data_df[\"Country\"] = city_data_df[\"Country\"].str.upper()\n",
    "\n",
    "city_data_df"
   ]
  },
  {
   "cell_type": "code",
   "execution_count": null,
   "metadata": {},
   "outputs": [],
   "source": []
  }
 ],
 "metadata": {
  "kernelspec": {
   "display_name": "Python 3",
   "language": "python",
   "name": "python3"
  },
  "language_info": {
   "codemirror_mode": {
    "name": "ipython",
    "version": 3
   },
   "file_extension": ".py",
   "mimetype": "text/x-python",
   "name": "python",
   "nbconvert_exporter": "python",
   "pygments_lexer": "ipython3",
   "version": "3.7.1"
  }
 },
 "nbformat": 4,
 "nbformat_minor": 2
}
