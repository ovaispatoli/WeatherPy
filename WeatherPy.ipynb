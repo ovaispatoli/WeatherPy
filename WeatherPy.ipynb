{
 "cells": [
  {
   "cell_type": "code",
   "execution_count": 44,
   "metadata": {},
   "outputs": [],
   "source": [
    "#----------------Dependencies----------------#\n",
    "\n",
    "#City and Weather Data:\n",
    "from citipy import citipy \n",
    "import openweathermapy as owm #decided not to use this\n",
    "\n",
    "#Analysis/Plotting Tools:\n",
    "import pandas as pd\n",
    "import matplotlib.pyplot as plt\n",
    "\n",
    "#Mathematical tools:\n",
    "from random import uniform\n",
    "import time \n",
    "import numpy as np\n",
    "\n",
    "#Query Tools:\n",
    "from config import api_key\n",
    "import requests\n",
    "import json\n",
    "from pprint import pprint as pp\n",
    "\n",
    "#----------------Dependencies----------------#"
   ]
  },
  {
   "cell_type": "markdown",
   "metadata": {},
   "source": [
    "#### The List of Cities We Want Data For"
   ]
  },
  {
   "cell_type": "code",
   "execution_count": 45,
   "metadata": {},
   "outputs": [],
   "source": [
    "#Generate a random list of Cities\n",
    "\n",
    "#intialize empty lists: cities, countries, current_temperature, humidity, cloudiness, wind_speed\n",
    "\n",
    "cities = []\n",
    "countries = []\n",
    "\n",
    "#Loop for a certain amount of times\n",
    "for x in range (2):\n",
    "    #set random coordinate values (latitude and longitude)\n",
    "    lat = np.random.uniform(-90.000, 90.000)\n",
    "    lon = np.random.uniform(-180.000,180.000)\n",
    "   \n",
    "    #Find city closest to the coordinate values: Use Citipy library\n",
    "    city_obj = citipy.nearest_city(lat,lon)\n",
    "    \n",
    "    #Set variables city_name, country_code; to the name of the city and the country code for that city\n",
    "    city_name = city_obj.city_name\n",
    "    country_code = city_obj.country_code\n",
    "    \n",
    "    #Add the city_name to the cities list only if it's not already in the list\n",
    "    if city_name not in cities:\n",
    "        cities.append(city_name)\n",
    "        countries.append(country_code)\n",
    "    \n",
    "    \n",
    "#capitalize first letter of each city in cities and uppercase for countries (list comprehensions)\n",
    "\n",
    "cities = [city.capitalize() for city in cities]\n",
    "countries = [country.upper() for country in countries]\n",
    "\n",
    "#Test print\n",
    "#print(cities)\n",
    "#print(countries)"
   ]
  },
  {
   "cell_type": "markdown",
   "metadata": {},
   "source": [
    "#### Fetching Weather Data from OpenWeatherMap API"
   ]
  },
  {
   "cell_type": "code",
   "execution_count": 46,
   "metadata": {},
   "outputs": [],
   "source": [
    "#Query variables: url query_url\n",
    "\n",
    "url = \"http://api.openweathermap.org/data/2.5/weather?\"\n",
    "query_url = url + \"appid=\" + api_key + \"&q=\""
   ]
  },
  {
   "cell_type": "code",
   "execution_count": 47,
   "metadata": {},
   "outputs": [],
   "source": [
    "#Lists to hold values of temperature, humidity, cloudiness and wind speed\n",
    "\n",
    "current_temp = []\n",
    "humidity = []\n",
    "cloudy = []\n",
    "wind_speed = []\n"
   ]
  },
  {
   "cell_type": "code",
   "execution_count": 48,
   "metadata": {},
   "outputs": [
    {
     "name": "stdout",
     "output_type": "stream",
     "text": [
      "Now finding Data for Atuona.\n",
      "82.76 100 12 15.28\n",
      "Now finding Data for Kodiak.\n",
      "45.19 4 1 2.53\n"
     ]
    }
   ],
   "source": [
    "#Open Weather Map query loop\n",
    "for city in cities:\n",
    "    \n",
    "    #Create empty variables\n",
    "    temperature = 0\n",
    "    humidy = 0\n",
    "    cloudiness = 0\n",
    "    wind = 0\n",
    "    #Print what City we're getting data for\n",
    "    print(f\"Now finding Data for {city}.\")\n",
    "    \n",
    " \n",
    "    #Query via API call and turn it into a JSON format\n",
    "    weather_response = requests.get(query_url  + city + \"&units=imperial\")\n",
    "    weather_json = weather_response.json()\n",
    "    \n",
    "    #Retrieve desired values: temp, humidity, cloudiness, wind speed\n",
    "    temperature = weather_json['main']['temp']\n",
    "    humidy = weather_json['main']['humidity']\n",
    "    cloudiness = weather_json['clouds']['all']\n",
    "    wind = weather_json[\"wind\"][\"speed\"]\n",
    "    \n",
    "    #Append values to lists created above\n",
    "    current_temp.append(temperature)\n",
    "    humidity.append(humidy)\n",
    "    cloudy.append(cloudiness)\n",
    "    wind_speed.append(wind)\n",
    "    \n",
    "    print(temperature, humidy, cloudiness, wind)\n",
    "\n",
    "    #Time constraint\n",
    "    time.sleep(1)\n",
    "    \n",
    "    \n",
    "#pp(weather_json)\n"
   ]
  },
  {
   "cell_type": "code",
   "execution_count": 49,
   "metadata": {},
   "outputs": [
    {
     "name": "stdout",
     "output_type": "stream",
     "text": [
      "[82.76, 45.19] [100, 4] [12, 1] [15.28, 2.53]\n"
     ]
    }
   ],
   "source": [
    "#Test print lists\n",
    "#print(current_temp,humidity, cloudy, wind_speed)"
   ]
  },
  {
   "cell_type": "markdown",
   "metadata": {},
   "source": [
    "#### Transform Data into a Pandas DataFrame"
   ]
  },
  {
   "cell_type": "code",
   "execution_count": 50,
   "metadata": {},
   "outputs": [
    {
     "data": {
      "text/html": [
       "<div>\n",
       "<style scoped>\n",
       "    .dataframe tbody tr th:only-of-type {\n",
       "        vertical-align: middle;\n",
       "    }\n",
       "\n",
       "    .dataframe tbody tr th {\n",
       "        vertical-align: top;\n",
       "    }\n",
       "\n",
       "    .dataframe thead th {\n",
       "        text-align: right;\n",
       "    }\n",
       "</style>\n",
       "<table border=\"1\" class=\"dataframe\">\n",
       "  <thead>\n",
       "    <tr style=\"text-align: right;\">\n",
       "      <th></th>\n",
       "      <th>City</th>\n",
       "      <th>Country</th>\n",
       "      <th>Temperature</th>\n",
       "      <th>Humidity</th>\n",
       "      <th>Cloudiness</th>\n",
       "      <th>Wind Speed</th>\n",
       "    </tr>\n",
       "  </thead>\n",
       "  <tbody>\n",
       "    <tr>\n",
       "      <th>0</th>\n",
       "      <td>Atuona</td>\n",
       "      <td>PF</td>\n",
       "      <td>82.76</td>\n",
       "      <td>100</td>\n",
       "      <td>12</td>\n",
       "      <td>15.28</td>\n",
       "    </tr>\n",
       "    <tr>\n",
       "      <th>1</th>\n",
       "      <td>Kodiak</td>\n",
       "      <td>US</td>\n",
       "      <td>45.19</td>\n",
       "      <td>4</td>\n",
       "      <td>1</td>\n",
       "      <td>2.53</td>\n",
       "    </tr>\n",
       "  </tbody>\n",
       "</table>\n",
       "</div>"
      ],
      "text/plain": [
       "     City Country  Temperature  Humidity  Cloudiness  Wind Speed\n",
       "0  Atuona      PF        82.76       100          12       15.28\n",
       "1  Kodiak      US        45.19         4           1        2.53"
      ]
     },
     "execution_count": 50,
     "metadata": {},
     "output_type": "execute_result"
    }
   ],
   "source": [
    "#Create dictionary from lists: combined_dict\n",
    "combined_dict = {\"City\": cities,\n",
    "                 \"Country\": countries,\n",
    "                 \"Temperature\": current_temp,\n",
    "                 \"Humidity\": humidity,\n",
    "                 \"Cloudiness\": cloudy,\n",
    "                 \"Wind Speed\": wind_speed,\n",
    "                }\n",
    "combined_dict\n",
    "\n",
    "#Create DataFrame from combined_dict: city_data_df\n",
    "weather_data_df = pd.DataFrame(combined_dict)\n",
    "\n",
    "\n",
    "\n",
    "weather_data_df"
   ]
  },
  {
   "cell_type": "code",
   "execution_count": null,
   "metadata": {},
   "outputs": [],
   "source": []
  }
 ],
 "metadata": {
  "kernelspec": {
   "display_name": "Python 3",
   "language": "python",
   "name": "python3"
  },
  "language_info": {
   "codemirror_mode": {
    "name": "ipython",
    "version": 3
   },
   "file_extension": ".py",
   "mimetype": "text/x-python",
   "name": "python",
   "nbconvert_exporter": "python",
   "pygments_lexer": "ipython3",
   "version": "3.7.1"
  }
 },
 "nbformat": 4,
 "nbformat_minor": 2
}
