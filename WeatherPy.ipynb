{
 "cells": [
  {
   "cell_type": "code",
   "execution_count": 115,
   "metadata": {},
   "outputs": [],
   "source": [
    "#----------------Dependencies----------------#\n",
    "\n",
    "#City and Weather Data:\n",
    "from citipy import citipy \n",
    "import openweathermapy as owm #decided not to use this\n",
    "\n",
    "#Analysis/Plotting Tools:\n",
    "import pandas as pd\n",
    "import matplotlib.pyplot as plt\n",
    "\n",
    "#Mathematical tools:\n",
    "from random import uniform\n",
    "import time \n",
    "import numpy as np\n",
    "\n",
    "#Query Tools:\n",
    "from config import api_key\n",
    "import requests\n",
    "import json\n",
    "from pprint import pprint as pp\n",
    "\n",
    "#----------------Dependencies----------------#"
   ]
  },
  {
   "cell_type": "markdown",
   "metadata": {},
   "source": [
    "#### The List of Cities We Want Data For"
   ]
  },
  {
   "cell_type": "code",
   "execution_count": 131,
   "metadata": {},
   "outputs": [
    {
     "name": "stdout",
     "output_type": "stream",
     "text": [
      "[('Sola', 'VU'), ('Lorengau', 'PG')]\n"
     ]
    }
   ],
   "source": [
    "#Generate a random list of Cities\n",
    "\n",
    "#intialize empty lists: cities, countries, latitude, longitude\n",
    "\n",
    "cities = []\n",
    "countries = []\n",
    "latitude = []\n",
    "longitude = []\n",
    "\n",
    "#Loop for a certain amount of times\n",
    "for x in range (2):\n",
    "    #set random coordinate values (latitude and longitude)\n",
    "    lat = np.random.uniform(-90.000, 90.000)\n",
    "    lon = np.random.uniform(-180.000,180.000)\n",
    "   \n",
    "    #append coordinate values to latitude and longitude lists\n",
    "    latitude.append(lat)\n",
    "    longitude.append(lon)\n",
    "    \n",
    "    #Find city closest to the coordinate values: Use Citipy library\n",
    "    city_obj = citipy.nearest_city(lat,lon)\n",
    "    \n",
    "    #Set variables city_name, country_code; to the name of the city and the country code for that city\n",
    "    city_name = city_obj.city_name\n",
    "    country_code = city_obj.country_code\n",
    "    \n",
    "    #Add the city_name to the cities list only if it's not already in the list\n",
    "    if city_name not in cities:\n",
    "        cities.append(city_name)\n",
    "        countries.append(country_code)\n",
    "    \n",
    "    \n",
    "#capitalize first letter of each city in cities and uppercase for countries (list comprehensions)\n",
    "\n",
    "cities = [city.capitalize() for city in cities]\n",
    "countries = [country.upper() for country in countries]\n",
    "\n",
    "\n",
    "\n",
    "#Test print\n",
    "#print(cities)\n",
    "#print(countries)\n"
   ]
  },
  {
   "cell_type": "markdown",
   "metadata": {},
   "source": [
    "#### Fetching Weather Data from OpenWeatherMap API"
   ]
  },
  {
   "cell_type": "code",
   "execution_count": 117,
   "metadata": {},
   "outputs": [],
   "source": [
    "#Query variables: url query_url\n",
    "\n",
    "url = \"http://api.openweathermap.org/data/2.5/weather?\"\n",
    "query_url = url + \"appid=\" + api_key + \"&q=\""
   ]
  },
  {
   "cell_type": "code",
   "execution_count": 118,
   "metadata": {},
   "outputs": [],
   "source": [
    "#Lists to hold values of temperature, humidity, cloudiness and wind speed\n",
    "\n",
    "current_temp = []\n",
    "humidity = []\n",
    "cloudy = []\n",
    "wind_speed = []\n",
    "\n"
   ]
  },
  {
   "cell_type": "code",
   "execution_count": 119,
   "metadata": {},
   "outputs": [],
   "source": [
    "#weather_response = requests.get(query_url + \"Houston\" + \"&units=imperial\")\n",
    "#weather_json = weather_response.json()\n",
    "#pp(weather_json)"
   ]
  },
  {
   "cell_type": "code",
   "execution_count": 138,
   "metadata": {},
   "outputs": [
    {
     "name": "stdout",
     "output_type": "stream",
     "text": [
      "Now finding Data for Sola, VU.\n",
      "Now finding Data for Lorengau, PG.\n"
     ]
    }
   ],
   "source": [
    "#Create counting variable\n",
    "count = 0\n",
    "\n",
    "#Open Weather Map query loop\n",
    "for city in cities:\n",
    "     \n",
    "    #Print what City we're getting data for\n",
    "    print(f\"Now finding Data for {city}, {countries[count]}.\")\n",
    "    \n",
    "\n",
    "    #Query via API call and turn it into a JSON format\n",
    "    weather_response = requests.get(query_url  + city + \"&units=imperial\")\n",
    "    weather_json = weather_response.json()\n",
    "    \n",
    "    #Retrieve desired values: temp, humidity, cloudiness, wind speed\n",
    "    temperature = weather_json['main']['temp_max']\n",
    "    humidy = weather_json['main']['humidity']\n",
    "    cloudiness = weather_json['clouds']['all']\n",
    "    wind = weather_json[\"wind\"][\"speed\"]\n",
    "    \n",
    "    #Append values to lists created above\n",
    "    current_temp.append(temperature)\n",
    "    humidity.append(humidy)\n",
    "    cloudy.append(cloudiness)\n",
    "    wind_speed.append(wind)\n",
    "    \n",
    "    #Add to counter\n",
    "    count = count + 1\n",
    "    \n",
    "    #print(temperature, humidy, cloudiness, wind)\n",
    "\n",
    "    #Time constraint\n",
    "    time.sleep(1)\n",
    "    \n",
    "    \n",
    "#pp(weather_json)\n"
   ]
  },
  {
   "cell_type": "code",
   "execution_count": 121,
   "metadata": {},
   "outputs": [],
   "source": [
    "#Test print lists\n",
    "#print(current_temp,humidity, cloudy, wind_speed)"
   ]
  },
  {
   "cell_type": "markdown",
   "metadata": {},
   "source": [
    "#### Transform Data into a Pandas DataFrame"
   ]
  },
  {
   "cell_type": "code",
   "execution_count": 122,
   "metadata": {},
   "outputs": [
    {
     "data": {
      "text/html": [
       "<div>\n",
       "<style scoped>\n",
       "    .dataframe tbody tr th:only-of-type {\n",
       "        vertical-align: middle;\n",
       "    }\n",
       "\n",
       "    .dataframe tbody tr th {\n",
       "        vertical-align: top;\n",
       "    }\n",
       "\n",
       "    .dataframe thead th {\n",
       "        text-align: right;\n",
       "    }\n",
       "</style>\n",
       "<table border=\"1\" class=\"dataframe\">\n",
       "  <thead>\n",
       "    <tr style=\"text-align: right;\">\n",
       "      <th></th>\n",
       "      <th>City</th>\n",
       "      <th>Country</th>\n",
       "      <th>Max Temperature</th>\n",
       "      <th>Humidity</th>\n",
       "      <th>Cloudiness</th>\n",
       "      <th>Wind Speed</th>\n",
       "      <th>Latitude</th>\n",
       "      <th>Longitude</th>\n",
       "    </tr>\n",
       "  </thead>\n",
       "  <tbody>\n",
       "    <tr>\n",
       "      <th>0</th>\n",
       "      <td>Cape town</td>\n",
       "      <td>ZA</td>\n",
       "      <td>73.99</td>\n",
       "      <td>73</td>\n",
       "      <td>40</td>\n",
       "      <td>6.93</td>\n",
       "      <td>-53.420122</td>\n",
       "      <td>-6.502619</td>\n",
       "    </tr>\n",
       "    <tr>\n",
       "      <th>1</th>\n",
       "      <td>Chokurdakh</td>\n",
       "      <td>RU</td>\n",
       "      <td>-24.97</td>\n",
       "      <td>38</td>\n",
       "      <td>20</td>\n",
       "      <td>5.64</td>\n",
       "      <td>81.843186</td>\n",
       "      <td>155.045909</td>\n",
       "    </tr>\n",
       "  </tbody>\n",
       "</table>\n",
       "</div>"
      ],
      "text/plain": [
       "         City Country  Max Temperature  Humidity  Cloudiness  Wind Speed  \\\n",
       "0   Cape town      ZA            73.99        73          40        6.93   \n",
       "1  Chokurdakh      RU           -24.97        38          20        5.64   \n",
       "\n",
       "    Latitude   Longitude  \n",
       "0 -53.420122   -6.502619  \n",
       "1  81.843186  155.045909  "
      ]
     },
     "execution_count": 122,
     "metadata": {},
     "output_type": "execute_result"
    }
   ],
   "source": [
    "#Create dictionary from lists: combined_dict\n",
    "combined_dict = {\"City\": cities,\n",
    "                 \"Country\": countries,\n",
    "                 \"Max Temperature\": current_temp,\n",
    "                 \"Humidity\": humidity,\n",
    "                 \"Cloudiness\": cloudy,\n",
    "                 \"Wind Speed\": wind_speed,\n",
    "                 \"Latitude\": latitude,\n",
    "                 \"Longitude\": longitude\n",
    "                }\n",
    "combined_dict\n",
    "\n",
    "#Create DataFrame from combined_dict: city_data_df\n",
    "weather_data_df = pd.DataFrame(combined_dict)\n",
    "\n",
    "\n",
    "\n",
    "weather_data_df.head()"
   ]
  },
  {
   "cell_type": "markdown",
   "metadata": {},
   "source": [
    "#### Scatter Plots Representing Relation between Weather Data and Latitude"
   ]
  },
  {
   "cell_type": "code",
   "execution_count": 123,
   "metadata": {},
   "outputs": [],
   "source": [
    "#Temperature and Latitude"
   ]
  },
  {
   "cell_type": "code",
   "execution_count": 124,
   "metadata": {},
   "outputs": [],
   "source": [
    "#Humidity and Latitude"
   ]
  },
  {
   "cell_type": "code",
   "execution_count": 125,
   "metadata": {},
   "outputs": [],
   "source": [
    "#Cloudiness and Latitude"
   ]
  },
  {
   "cell_type": "code",
   "execution_count": 126,
   "metadata": {},
   "outputs": [],
   "source": [
    "#Wind speed and Latitude"
   ]
  },
  {
   "cell_type": "code",
   "execution_count": null,
   "metadata": {},
   "outputs": [],
   "source": []
  }
 ],
 "metadata": {
  "kernelspec": {
   "display_name": "Python 3",
   "language": "python",
   "name": "python3"
  },
  "language_info": {
   "codemirror_mode": {
    "name": "ipython",
    "version": 3
   },
   "file_extension": ".py",
   "mimetype": "text/x-python",
   "name": "python",
   "nbconvert_exporter": "python",
   "pygments_lexer": "ipython3",
   "version": "3.7.1"
  }
 },
 "nbformat": 4,
 "nbformat_minor": 2
}
