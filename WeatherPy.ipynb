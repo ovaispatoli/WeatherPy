{
 "cells": [
  {
   "cell_type": "code",
   "execution_count": 28,
   "metadata": {},
   "outputs": [],
   "source": [
    "#Dependencies\n",
    "from citipy import citipy\n",
    "import numpy as np\n",
    "from random import uniform\n"
   ]
  },
  {
   "cell_type": "code",
   "execution_count": 45,
   "metadata": {},
   "outputs": [],
   "source": [
    "#Get a list of random cities from the citipy library\n",
    "#intialize empty lists: cities, cities_final\n",
    "cities = []\n",
    "cities_final = []\n",
    "\n",
    "#Loop for a certain amount of times\n",
    "for x in range (1000):\n",
    "    #set random coordinate values (latitude and longitude)\n",
    "    lat = np.random.uniform(-90.000, 90.000)\n",
    "    lon = np.random.uniform(-180.000,180.000)\n",
    "    #Find city closest to the coordinate values: Use Citipy library\n",
    "    city_obj = citipy.nearest_city(lat,lon)\n",
    "    #Set variables city_name, country_code; to the name of the city and the country code for that city\n",
    "    city_name = city_obj.city_name\n",
    "    country_code = city_obj.country_code\n",
    "    #Add the city_name to the cities list\n",
    "    cities.append(city_name)\n",
    "\n",
    "    #print(city_name, country_code)\n",
    "    \n",
    "#sort the list of cities\n",
    "cities = sorted(cities)\n",
    "\n",
    "#print(cities)\n",
    "\n",
    "\n",
    "#Remove recurring cities in cities list and store values in cities_final\n",
    "for city in cities:\n",
    "    #Conditional Statement: checks if the value already exists in cities_final and appends only if it is not in the list\n",
    "    if city not in cities_final:\n",
    "        cities_final.append(city)\n",
    "#print(cities_final)"
   ]
  },
  {
   "cell_type": "code",
   "execution_count": null,
   "metadata": {},
   "outputs": [],
   "source": [
    "#Create variables for query url, query url, city_url\n",
    "\n",
    "\n"
   ]
  },
  {
   "cell_type": "code",
   "execution_count": 51,
   "metadata": {},
   "outputs": [],
   "source": [
    "#For loop to iteratively call API: make sure to use time out (1second)"
   ]
  },
  {
   "cell_type": "code",
   "execution_count": null,
   "metadata": {},
   "outputs": [],
   "source": []
  },
  {
   "cell_type": "code",
   "execution_count": null,
   "metadata": {},
   "outputs": [],
   "source": []
  }
 ],
 "metadata": {
  "kernelspec": {
   "display_name": "Python 3",
   "language": "python",
   "name": "python3"
  },
  "language_info": {
   "codemirror_mode": {
    "name": "ipython",
    "version": 3
   },
   "file_extension": ".py",
   "mimetype": "text/x-python",
   "name": "python",
   "nbconvert_exporter": "python",
   "pygments_lexer": "ipython3",
   "version": "3.7.1"
  }
 },
 "nbformat": 4,
 "nbformat_minor": 2
}
