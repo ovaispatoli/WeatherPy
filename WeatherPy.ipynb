{
 "cells": [
  {
   "cell_type": "code",
   "execution_count": 65,
   "metadata": {},
   "outputs": [],
   "source": [
    "#----------------Dependencies----------------#\n",
    "\n",
    "#City and Weather Data:\n",
    "from citipy import citipy \n",
    "import openweathermapy as owm #decided not to use this\n",
    "\n",
    "#Analysis/Plotting Tools:\n",
    "import pandas as pd\n",
    "import matplotlib.pyplot as plt\n",
    "\n",
    "#Mathematical tools:\n",
    "from random import uniform\n",
    "import time \n",
    "import numpy as np\n",
    "import datetime\n",
    "\n",
    "#Query Tools:\n",
    "from config import api_key #api_key has been disabled, please use your own, thanks!\n",
    "import requests\n",
    "import json\n",
    "from pprint import pprint as pp\n",
    "\n",
    "#----------------Dependencies----------------#"
   ]
  },
  {
   "cell_type": "markdown",
   "metadata": {},
   "source": [
    "#### The List of Cities We Want Data For"
   ]
  },
  {
   "cell_type": "code",
   "execution_count": 66,
   "metadata": {},
   "outputs": [],
   "source": [
    "#Generate a random list of Cities\n",
    "\n",
    "#intialize empty lists: cities, countries, latitude, longitude\n",
    "\n",
    "cities = []\n",
    "countries = []\n",
    "latitude = []\n",
    "longitude = []\n",
    "\n",
    "#Loop for a certain amount of times\n",
    "for x in range (2):\n",
    "    #set random coordinate values (latitude and longitude)\n",
    "    lat = np.random.uniform(-90.000, 90.000)\n",
    "    lon = np.random.uniform(-180.000,180.000)\n",
    "   \n",
    "    #append coordinate values to latitude and longitude lists\n",
    "    latitude.append(lat)\n",
    "    longitude.append(lon)\n",
    "    \n",
    "    #Find city closest to the coordinate values: Use Citipy library\n",
    "    city_obj = citipy.nearest_city(lat,lon)\n",
    "    \n",
    "    #Set variables city_name, country_code; to the name of the city and the country code for that city\n",
    "    city_name = city_obj.city_name\n",
    "    country_code = city_obj.country_code\n",
    "    \n",
    "    #Add the city_name to the cities list only if it's not already in the list\n",
    "    if city_name not in cities:\n",
    "        cities.append(city_name)\n",
    "        countries.append(country_code)\n",
    "    \n",
    "    \n",
    "#capitalize first letter of each city in cities and uppercase for countries (list comprehensions)\n",
    "\n",
    "cities = [city.capitalize() for city in cities]\n",
    "countries = [country.upper() for country in countries]\n",
    "\n",
    "\n",
    "\n",
    "#Test print\n",
    "#print(cities)\n",
    "#print(countries)\n"
   ]
  },
  {
   "cell_type": "markdown",
   "metadata": {},
   "source": [
    "#### Fetching Weather Data from OpenWeatherMap API"
   ]
  },
  {
   "cell_type": "code",
   "execution_count": 67,
   "metadata": {},
   "outputs": [],
   "source": [
    "#Query variables: url query_url\n",
    "\n",
    "url = \"http://api.openweathermap.org/data/2.5/weather?\"\n",
    "query_url = url + \"appid=\" + api_key + \"&q=\" #input your own api key here"
   ]
  },
  {
   "cell_type": "code",
   "execution_count": 69,
   "metadata": {},
   "outputs": [
    {
     "name": "stdout",
     "output_type": "stream",
     "text": [
      "{'base': 'stations',\n",
      " 'clouds': {'all': 20},\n",
      " 'cod': 200,\n",
      " 'coord': {'lat': 29.76, 'lon': -95.37},\n",
      " 'dt': 1553016931,\n",
      " 'id': 4699066,\n",
      " 'main': {'humidity': 30,\n",
      "          'pressure': 1026,\n",
      "          'temp': 67.68,\n",
      "          'temp_max': 72,\n",
      "          'temp_min': 64},\n",
      " 'name': 'Houston',\n",
      " 'sys': {'country': 'US',\n",
      "         'id': 4850,\n",
      "         'message': 0.0088,\n",
      "         'sunrise': 1552998405,\n",
      "         'sunset': 1553041910,\n",
      "         'type': 1},\n",
      " 'visibility': 14484,\n",
      " 'weather': [{'description': 'smoke',\n",
      "              'icon': '50d',\n",
      "              'id': 711,\n",
      "              'main': 'Smoke'}],\n",
      " 'wind': {'gust': 6.2, 'speed': 4.7}}\n"
     ]
    }
   ],
   "source": [
    "#Test query\n",
    "\n",
    "#weather_response = requests.get(query_url + \"Houston\" + \"&units=imperial\")\n",
    "#weather_json = weather_response.json()\n",
    "#pp(weather_json)"
   ]
  },
  {
   "cell_type": "code",
   "execution_count": 79,
   "metadata": {},
   "outputs": [],
   "source": [
    "#Lists to hold values of temperature, humidity, cloudiness and wind speed\n",
    "\n",
    "city_names = []\n",
    "country_names = []\n",
    "current_temp = []\n",
    "humidity = []\n",
    "cloudy = []\n",
    "wind_speed = []\n",
    "dates = []\n",
    "times = []\n"
   ]
  },
  {
   "cell_type": "code",
   "execution_count": 83,
   "metadata": {},
   "outputs": [
    {
     "name": "stdout",
     "output_type": "stream",
     "text": [
      "Initializing Data Retrieval\n",
      "Now finding weather data for query 1 | Date:2019-03-19 Time:12:56 PM (US-CST)| Location: Turrialba, CR.\n",
      "---------------------------------------------------------------------------------------------------\n",
      "Now finding weather data for query 2 | Date:2019-03-19 Time:12:56 PM (US-CST)| Location: Nikolskoye, RU.\n",
      "---------------------------------------------------------------------------------------------------\n"
     ]
    }
   ],
   "source": [
    "#Create counting variable\n",
    "count = 0\n",
    "\n",
    "print(\"Initializing Data Retrieval\")\n",
    "\n",
    "#Open Weather Map query loop\n",
    "for city in cities:\n",
    "    \n",
    "    #Get Date and time\n",
    "    day_time = datetime.datetime.today()\n",
    "    date = day_time.strftime(\"%Y-%m-%d\")\n",
    "    time_now = day_time.strftime(\"%H:%M %p %Z\") + \"(US-CST)\"\n",
    "    \n",
    "    #Append to dates and times lists\n",
    "    dates.append(date)\n",
    "    times.append(time_now)\n",
    "    \n",
    "    #Print what City we're getting data for\n",
    "    print(f\"Now finding weather data for query {count + 1} | Date:{date} Time:{time_now}| Location: {city}, {countries[count]}.\")\n",
    "    \n",
    "    #Print Dotted Line\n",
    "    print(\"---------------------------------------------------------------------------------------------------\")\n",
    "    \n",
    "    #Query via API call and turn it into a JSON format\n",
    "    weather_response = requests.get(query_url  + city + \"&units=imperial\")\n",
    "    weather_json = weather_response.json()\n",
    "    \n",
    "    #Retrieve desired values: temp, humidity, cloudiness, wind speed\n",
    "    city_name = weather_json[\"name\"]\n",
    "    country_name = weather_json[\"sys\"][\"country\"]\n",
    "    temperature = weather_json['main']['temp_max']\n",
    "    humidy = weather_json['main']['humidity']\n",
    "    cloudiness = weather_json['clouds']['all']\n",
    "    wind = weather_json[\"wind\"][\"speed\"]\n",
    "    \n",
    "    #Append values to lists created above\n",
    "    city_names.append(city_name)\n",
    "    country_names.append(country_name)\n",
    "    current_temp.append(temperature)\n",
    "    humidity.append(humidy)\n",
    "    cloudy.append(cloudiness)\n",
    "    wind_speed.append(wind)\n",
    "    \n",
    "    #Add to counter\n",
    "    count = count + 1\n",
    "    \n",
    "    #print(temperature, humidy, cloudiness, wind)\n",
    "\n",
    "    #Time constraint\n",
    "    time.sleep(1)\n",
    "    \n",
    "    \n",
    "#pp(weather_json)\n"
   ]
  },
  {
   "cell_type": "code",
   "execution_count": 71,
   "metadata": {},
   "outputs": [
    {
     "name": "stdout",
     "output_type": "stream",
     "text": [
      "['Turrialba', 'Nikolskoye'] ['2019-03-19', '2019-03-19'] ['12:46 PM (US-CST)', '12:46 PM (US-CST)']\n",
      "[93, 37.99]\n"
     ]
    }
   ],
   "source": [
    "#Test print lists\n",
    "print(cities, dates, times)\n",
    "print(current_temp)"
   ]
  },
  {
   "cell_type": "markdown",
   "metadata": {},
   "source": [
    "#### Transform Data into a Pandas DataFrame"
   ]
  },
  {
   "cell_type": "code",
   "execution_count": 82,
   "metadata": {},
   "outputs": [
    {
     "data": {
      "text/html": [
       "<div>\n",
       "<style scoped>\n",
       "    .dataframe tbody tr th:only-of-type {\n",
       "        vertical-align: middle;\n",
       "    }\n",
       "\n",
       "    .dataframe tbody tr th {\n",
       "        vertical-align: top;\n",
       "    }\n",
       "\n",
       "    .dataframe thead th {\n",
       "        text-align: right;\n",
       "    }\n",
       "</style>\n",
       "<table border=\"1\" class=\"dataframe\">\n",
       "  <thead>\n",
       "    <tr style=\"text-align: right;\">\n",
       "      <th></th>\n",
       "      <th>City</th>\n",
       "      <th>Country</th>\n",
       "      <th>Date</th>\n",
       "      <th>Time</th>\n",
       "      <th>Max Temperature</th>\n",
       "      <th>Humidity</th>\n",
       "      <th>Cloudiness</th>\n",
       "      <th>Wind Speed</th>\n",
       "      <th>Latitude</th>\n",
       "      <th>Longitude</th>\n",
       "    </tr>\n",
       "  </thead>\n",
       "  <tbody>\n",
       "    <tr>\n",
       "      <th>0</th>\n",
       "      <td>Turrialba</td>\n",
       "      <td>CR</td>\n",
       "      <td>2019-03-19</td>\n",
       "      <td>12:55 PM (US-CST)</td>\n",
       "      <td>93.00</td>\n",
       "      <td>47</td>\n",
       "      <td>75</td>\n",
       "      <td>16.11</td>\n",
       "      <td>10.043696</td>\n",
       "      <td>-83.771041</td>\n",
       "    </tr>\n",
       "    <tr>\n",
       "      <th>1</th>\n",
       "      <td>Nikolskoye</td>\n",
       "      <td>RU</td>\n",
       "      <td>2019-03-19</td>\n",
       "      <td>12:55 PM (US-CST)</td>\n",
       "      <td>37.99</td>\n",
       "      <td>93</td>\n",
       "      <td>90</td>\n",
       "      <td>2.24</td>\n",
       "      <td>36.408875</td>\n",
       "      <td>169.070174</td>\n",
       "    </tr>\n",
       "  </tbody>\n",
       "</table>\n",
       "</div>"
      ],
      "text/plain": [
       "         City Country        Date               Time  Max Temperature  \\\n",
       "0   Turrialba      CR  2019-03-19  12:55 PM (US-CST)            93.00   \n",
       "1  Nikolskoye      RU  2019-03-19  12:55 PM (US-CST)            37.99   \n",
       "\n",
       "   Humidity  Cloudiness  Wind Speed   Latitude   Longitude  \n",
       "0        47          75       16.11  10.043696  -83.771041  \n",
       "1        93          90        2.24  36.408875  169.070174  "
      ]
     },
     "execution_count": 82,
     "metadata": {},
     "output_type": "execute_result"
    }
   ],
   "source": [
    "#Create dictionary from lists: combined_dict\n",
    "combined_dict = {\"City\": city_names,\n",
    "                 \"Country\": country_names,\n",
    "                 \"Date\": dates,\n",
    "                 \"Time\": times,\n",
    "                 \"Max Temperature\": current_temp,\n",
    "                 \"Humidity\": humidity,\n",
    "                 \"Cloudiness\": cloudy,\n",
    "                 \"Wind Speed\": wind_speed,\n",
    "                 \"Latitude\": latitude,\n",
    "                 \"Longitude\": longitude\n",
    "                }\n",
    "combined_dict\n",
    "\n",
    "#Create DataFrame from combined_dict: city_data_df\n",
    "weather_data_df = pd.DataFrame(combined_dict)\n",
    "\n",
    "\n",
    "\n",
    "weather_data_df.head()"
   ]
  },
  {
   "cell_type": "markdown",
   "metadata": {},
   "source": [
    "#### Scatter Plots Representing Relation between Weather Data and Latitude"
   ]
  },
  {
   "cell_type": "code",
   "execution_count": null,
   "metadata": {},
   "outputs": [],
   "source": [
    "#Exp"
   ]
  },
  {
   "cell_type": "code",
   "execution_count": 73,
   "metadata": {},
   "outputs": [],
   "source": [
    "#Temperature and Latitude\n",
    "plt.scatter()"
   ]
  },
  {
   "cell_type": "code",
   "execution_count": 74,
   "metadata": {},
   "outputs": [],
   "source": [
    "#Humidity and Latitude"
   ]
  },
  {
   "cell_type": "code",
   "execution_count": 75,
   "metadata": {},
   "outputs": [],
   "source": [
    "#Cloudiness and Latitude"
   ]
  },
  {
   "cell_type": "code",
   "execution_count": 76,
   "metadata": {},
   "outputs": [],
   "source": [
    "#Wind speed and Latitude"
   ]
  },
  {
   "cell_type": "code",
   "execution_count": null,
   "metadata": {},
   "outputs": [],
   "source": []
  }
 ],
 "metadata": {
  "kernelspec": {
   "display_name": "Python 3",
   "language": "python",
   "name": "python3"
  },
  "language_info": {
   "codemirror_mode": {
    "name": "ipython",
    "version": 3
   },
   "file_extension": ".py",
   "mimetype": "text/x-python",
   "name": "python",
   "nbconvert_exporter": "python",
   "pygments_lexer": "ipython3",
   "version": "3.7.1"
  }
 },
 "nbformat": 4,
 "nbformat_minor": 2
}
