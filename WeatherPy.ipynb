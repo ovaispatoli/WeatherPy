{
 "cells": [
  {
   "cell_type": "code",
   "execution_count": 28,
   "metadata": {},
   "outputs": [],
   "source": [
    "#Dependencies\n",
    "from citipy import citipy\n",
    "import numpy as np\n",
    "from random import uniform\n"
   ]
  },
  {
   "cell_type": "code",
   "execution_count": 44,
   "metadata": {},
   "outputs": [
    {
     "name": "stdout",
     "output_type": "stream",
     "text": [
      "['abalak', 'abha', 'aborlan', 'abu samrah', 'acaponeta', 'acapulco', 'acarau', 'adrar', 'aduturai', 'afmadu', 'agadez', 'aguimes', 'ahipara', 'ailigandi', 'airai', 'aitape', 'ajaccio', 'ajdabiya', 'aklavik', 'aksarka', 'aksu', 'akyab', 'alakurtti', 'alamor', 'albany', 'aldan', 'aldergrove', 'alenquer', 'alexandria', 'alice springs', 'aljezur', 'allapalli', 'almaznyy', 'almenevo', 'alofi', 'along', 'alotau', 'altamira', 'altay', 'alto araguaia', 'alyangula', 'amapa', 'ambilobe', 'ambodifototra', 'ambon', 'amderma', 'ampanihy', 'amparafaravola', 'anadyr', 'ancud', 'andenes', 'andevoranto', 'andijon', 'andselv', 'aneho', 'angoche', 'antalaha', 'antofagasta', 'anzio', 'aranos', 'araouane', 'arbuzynka', 'archidona', 'arifwala', 'aripuana', 'arivonimamo', 'arkhangelskoye', 'arlit', 'arman', 'arona', 'arraial do cabo', 'arrecife', 'asau', 'astana', 'astipalaia', 'asuncion', 'aswan', 'asyut', 'atambua', 'atar', 'atasu', 'atocha', 'attawapiskat', 'atuona', 'atyra', 'auchi', 'auki', 'aurillac', 'avallon', 'avarua', 'avera', 'awbari', 'awjilah', 'ayan', 'aykhal', 'babynino', 'bacuit', 'baculin', 'bahar', 'bahia blanca', 'bairiki', 'bajil', 'bako', 'balabac', 'balakovo', 'balgazyn', 'bali', 'balikpapan', 'balingasay', 'balkanabat', 'ballina', 'bambanglipuro', 'bambous virieux', 'banda aceh', 'bandar-e lengeh', 'bang saphan', 'bani walid', 'barabinsk', 'baracoa', 'barahona', 'barawe', 'barbar', 'barcelona', 'barcelos', 'bardiyah', 'barentsburg', 'bargal', 'barrow', 'barry', 'baruun-urt', 'batagay', 'batemans bay', 'bathsheba', 'bati', 'baykit', 'beberibe', 'beibei', 'beinamar', 'beipiao', 'belaya gora', 'belen', 'belgrade', 'belmira', 'belmonte', 'beloha', 'belushya guba', 'belyy', 'belyy yar', 'benalla', 'benemerito de las americas', 'benghazi', 'bengkulu', 'berdigestyakh', 'beringovskiy', 'berlevag', 'bernal', 'betafo', 'beterou', 'bethanien', 'bethel', 'betsiamites', 'beyneu', 'bhatkal', 'biak', 'bid', 'bielsk podlaski', 'bilibino', 'bilma', 'bilopillya', 'biltine', 'birjand', 'bishop auckland', 'bitung', 'biu', 'bluff', 'bo phloi', 'boa vista', 'bobcaygeon', 'bodden town', 'boden', 'bogotol', 'bokovskaya', 'boljarovo', 'bolshoy uluy', 'bom jesus', 'bombay', 'bonavista', 'bonga', 'bontang', 'bonthe', 'borken', 'borogontsy', 'botwood', 'bouca', 'brae', 'brakel', 'brandon', 'bredasdorp', 'broome', 'buala', 'bubaque', 'budaun', 'budesti', 'buenos aires', 'buin', 'bukene', 'bur gabo', 'buraydah', 'burnie', 'busselton', 'butaritari', 'buzmeyin', 'buzuluk', 'byron bay', 'bytow', 'ca mau', 'cabedelo', 'cabo san lucas', 'cabra', 'cairns', 'calbuco', 'callaguip', 'camacha', 'camana', 'camapua', 'camargo', 'campbellton', 'campo formoso', 'canapi', 'candido de abreu', 'cantapoy', 'cap malheureux', 'cap-chat', 'capao bonito', 'cape town', 'caravelas', 'cardston', 'carnarvon', 'carutapera', 'cassilandia', 'castanos', 'castro', 'cayenne', 'cedar city', 'celestun', 'chadan', 'chagda', 'challapata', 'champerico', 'chandpur', 'changji', 'chapais', 'chara', 'chardara', 'charlestown', 'charters towers', 'chatrapur', 'cherlak', 'chernyshkovskiy', 'cherskiy', 'chifeng', 'chimore', 'china', 'chirnogi', 'chokurdakh', 'chokwe', 'chumphon', 'chuy', 'cidreira', 'clyde river', 'coahuayana', 'coalcoman', 'cockburn harbour', 'cockburn town', 'codogno', 'codrington', 'coffs harbour', 'coihaique', 'colares', 'college', 'colombia', 'comodoro rivadavia', 'concepcion', 'concepcion del oro', 'conde', 'conselheiro lafaiete', 'conselheiro pena', 'constitucion', 'coos bay', 'coquimbo', 'corinto', 'coro', 'corowa', 'coruripe', 'cotonou', 'cozumel', 'crab hill', 'craig', 'creel', 'crossfield', 'cuenca', 'cururupu', 'czluchow', 'da lat', 'dakar', 'dakoro', 'dalvik', 'danane', 'danielskuil', 'daru', 'dauriya', 'dawei', 'de aar', 'den helder', 'deputatskiy', 'derzhavinsk', 'devonport', 'deyang', 'dianopolis', 'dikson', 'dingle', 'dinguiraye', 'dok kham tai', 'dolbeau', 'doliana', 'dongli', 'dordrecht', 'dosso', 'douentza', 'dovolnoye', 'dubuque', 'dudinka', 'dunayivtsi', 'dundwaraganj', 'dunhua', 'durgapur', 'dzhusaly', 'east london', 'easton', 'edd', 'edson', 'egersund', 'egvekinot', 'el badari', 'el faiyum', 'elista', 'elizabeth city', 'elkhart', 'elko', 'emba', 'emerald', 'englewood', 'erenhot', 'erzin', 'esil', 'esna', 'espanola', 'esperance', 'estelle', 'estepa', 'eston', 'eucaliptus', 'evanston', 'evensk', 'ewo', 'exeter', 'faanui', 'fairbanks', 'fallon', 'farah', 'fare', 'faxinal', 'faya', 'ferrol', 'finschhafen', 'firminopolis', 'flin flon', 'flinders', 'floirac', 'fomboni', 'formosa', 'fort frances', 'fort nelson', 'fort-shevchenko', 'fortuna', 'fostoria', 'fraga', 'freeport', 'fukue', 'gabu', 'gainesville', 'galgani', 'gamba', 'ganzhou', 'gaoua', 'gaoual', 'gaptsakh', 'garbolovo', 'garchitorena', 'garden city', 'garmisch-partenkirchen', 'garowe', 'gat', 'gedo', 'general pico', 'general roca', 'georgetown', 'geraldton', 'gibsons', 'girne', 'gisborne', 'gizo', 'glenwood springs', 'gobindapur', 'goderich', 'godfrey', 'gogrial', 'gohana', 'gohpur', 'golden', 'golden gate', 'gombong', 'gornopravdinsk', 'gornyy', 'gorontalo', 'grand gaube', 'grand river south east', 'grandview', 'great falls', 'greytown', 'griffith', 'grindavik', 'grootfontein', 'guajara-mirim', 'guanica', 'gubin', 'gubkinskiy', 'guerrero negro', 'guilin', 'guiren', 'gwembe', 'haines junction', 'hakvik', 'halalo', 'halden', 'half moon bay', 'hambantota', 'hami', 'hamilton', 'hamina', 'hammerfest', 'hanstholm', 'harper', 'harrisonburg', 'hasaki', 'hastings', 'havelock', 'havoysund', 'havre-saint-pierre', 'hay river', 'hays', 'hede', 'heihe', 'henties bay', 'henzada', 'hermanus', 'high level', 'hilo', 'himatnagar', 'hithadhoo', 'hobart', 'hobyo', 'hofn', 'hohhot', 'hollola', 'homer', 'honiara', 'horta', 'houma', 'hovd', 'howard springs', 'huadian', 'huaidian', 'hualmay', 'huarmey', 'humaita', 'hun', 'husavik', 'huzhou', 'iberia', 'ibra', 'igrim', 'ihosy', 'ilebo', 'illoqqortoormiut', 'ilulissat', 'imeni zhelyabova', 'inderborskiy', 'indianola', 'inhambane', 'innoshima', 'iqaluit', 'irituia', 'isangel', 'ishinomaki', 'isilkul', 'isiro', 'islaz', 'issoire', 'itacoatiara', 'itamaraca', 'itarema', 'itoman', 'iturama', 'iwanai', 'ixtapa', 'izumo', 'jabinyanah', 'jacareacanga', 'jalu', 'jambi', 'jamestown', 'jardim', 'jawhar', 'jibuti', 'jiddah', 'jieshi', 'jilib', 'jinchang', 'jinji', 'jizan', 'joshimath', 'jujuy', 'jumla', 'junin', 'kabinda', 'kadnikov', 'kadoma', 'kadykchan', 'kahului', 'kailua', 'kaitangata', 'kakching', 'kalianget', 'kalmar', 'kalmunai', 'kalnciems', 'kambove', 'kamenka', 'kamenskoye', 'kamina', 'kampene', 'kandrian', 'kang', 'kangaatsiaq', 'kantabanji', 'kapaa', 'kapit', 'karamea', 'karasjok', 'karatau', 'kargasok', 'karimnagar', 'karkaralinsk', 'karlskrona', 'karpathos', 'karpinsk', 'karratha', 'kassala', 'kastamonu', 'katherine', 'katsuura', 'kattivakkam', 'kavaratti', 'kavieng', 'kawalu', 'kawambwa', 'kazachinskoye', 'kazalinsk', 'keflavik', 'kemin', 'kenai', 'kendari', 'kenora', 'kentau', 'ketchikan', 'khandyga', 'kharitonovo', 'khartoum', 'khasan', 'khash', 'khatanga', 'khorixas', 'khoy', 'khvastovichi', 'kibaha', 'kibaya', 'kibondo', 'kibre mengist', 'kidal', 'kieta', 'kifri', 'kilindoni', 'kimbe', 'kindersley', 'kirakira', 'kirensk', 'kirkland lake', 'kirkuk', 'kisangani', 'kitgum', 'kiunga', 'kjollefjord', 'klaksvik', 'kloulklubed', 'knysna', 'ko samui', 'kodiak', 'kokkola', 'kokopo', 'kollo', 'komsomolskiy', 'korla', 'koshki', 'koslan', 'kostalexis', 'kostomuksha', 'kota belud', 'kotelnich', 'kotido', 'koumac', 'kozhevnikovo', 'kozloduj', 'krasnoarmeysk', 'krasnogorsk', 'krasnoselkup', 'krasnovishersk', 'kropotkin', 'kruisfontein', 'kuala terengganu', 'kuanshan', 'kuche', 'kudahuvadhoo', 'kudal', 'kudat', 'kulhudhuffushi', 'kuli', 'kulunda', 'kumba', 'kuminskiy', 'kumluca', 'kundiawa', 'kungurtug', 'kununurra', 'kupang', 'kushima', 'kusti', 'kutum', 'kuytun', 'kyra', 'kysyl-syr', 'la baule-escoublac', 'la candelaria', 'la ronge', 'labuhan', 'lac du bonnet', 'lagoa', 'laguna', 'lakes entrance', 'lakshmipur', 'lalomanu', 'lamu', 'lander', 'lang son', 'langsa', 'langxiang', 'laranja da terra', 'lasa', 'lata', 'lavrentiya', 'lazaro cardenas', 'le vauclin', 'lebu', 'leh', 'leningradskiy', 'leninskoye', 'lensk', 'leogane', 'leon', 'les cayes', 'leshukonskoye', 'lewiston', 'lewistown', 'lhokseumawe', 'lillooet', 'lima', 'limoges', 'lingao', 'linhares', 'linxia', 'live oak', 'lockerbie', 'lodja', 'lodwar', 'lolua', 'lompoc', 'longkou', 'longyearbyen', 'lorengau', 'los alamos', 'los llanos de aridane', 'louisbourg', 'loukhi', 'luau', 'lubao', 'luderitz', 'ludvika', 'lukovetskiy', 'lukulu', 'lulea', 'luoyang', 'luzhou', 'maarianhamina', 'mabaruma', 'mabay', 'machachi', 'mackay', 'macusani', 'magdagachi', 'maghama', 'magistralnyy', 'magnolia', 'mahajanga', 'mahebourg', 'mahibadhoo', 'mahon', 'mahuva', 'majdanpek', 'majene', 'makakilo city', 'makubetsu', 'mala', 'malanje', 'maldonado', 'malwan', 'man', 'mana', 'manado', 'mandalgovi', 'mandera', 'manggar', 'mangrol', 'maniitsoq', 'manjacaze', 'manokwari', 'mansa', 'manta', 'manzanillo', 'manzil salim', 'mao', 'mar del plata', 'maragogi', 'marang', 'maravilha', 'marawi', 'marcona', 'mareeba', 'marfino', 'margate', 'mari-turek', 'marmaron', 'marsa matruh', 'marsaxlokk', 'marsh harbour', 'marystown', 'marzuq', 'matara', 'mataura', 'matay', 'mattawa', 'mattru', 'maumere', 'maun', 'mawlaik', 'mayna', 'mayo', 'mayya', 'mecca', 'mehamn', 'mehran', 'mendahara', 'menongue', 'mentok', 'merauke', 'mergui', 'metro', 'meulaboh', 'mezen', 'mezhdurechensk', 'midland', 'mikhaylovka', 'mikkeli', 'mikumi', 'milkovo', 'milton', 'mimongo', 'minatitlan', 'mindelo', 'minot', 'misratah', 'mitsamiouli', 'miyako', 'miyang', 'mizdah', 'mlowo', 'mnogovershinnyy', 'moanda', 'moerai', 'mogadishu', 'mokhsogollokh', 'moose factory', 'morant bay', 'moratuwa', 'moron', 'morondava', 'morro bay', 'motygino', 'mount gambier', 'mount isa', 'mount pleasant', 'moussoro', 'mrirt', 'mubi', 'mucuri', 'mudgee', 'mujiayingzi', 'mulchen', 'mulege', 'mungeli', 'murgab', 'muros', 'muroto', 'murray bridge', 'mushie', 'mutsamudu', 'myaundzha', 'myitkyina', 'mys shmidta', 'nabire', 'nadym', 'naftah', 'nagaur', 'nago', 'nakapiripirit', 'nalut', 'namatanai', 'namibe', 'namikupa', 'namwala', 'nanakuli', 'nanortalik', 'nantucket', 'naqadeh', 'narasimharajapura', 'narsaq', 'natal', 'naze', 'necochea', 'nehe', 'neiafu', 'nelson bay', 'neman', 'nemuro', 'neral', 'neryungri', 'nevers', 'new norfolk', 'newport', 'ngukurr', 'ngunguru', 'nhlangano', 'nhulunbuy', 'nikolsk', 'nikolskoye', 'ningxiang', 'nioki', 'niquelandia', 'nishihara', 'nizhneangarsk', 'nizhneyansk', 'nogliki', 'nombre de dios', 'nome', 'nongan', 'norman wells', 'north bend', 'northam', 'nouna', 'nova olimpia', 'nova vicosa', 'novobirilyussy', 'novokayakent', 'novyy urengoy', 'noyabrsk', 'nsanje', 'nsoko', 'nurota', 'nuuk', 'nyalikungu', 'nyimba', 'nyurba', 'obo', 'ocean city', 'octeville', 'odienne', 'odweyne', 'oistins', 'okha', 'okhotsk', 'oksfjord', 'oktyabrskiy', 'olafsvik', 'olivenza', 'omboue', 'omsukchan', 'ondjiva', 'ondorhaan', 'one hundred mile house', 'opobo', 'opuwo', 'orange walk', 'oranjemund', 'oranjestad', 'orgun', 'orichi', 'oriximina', 'orlovskiy', 'ormara', 'ornskoldsvik', 'oromocto', 'ossora', 'ostra luka', 'ostrovnoy', 'otane', 'othonoi', 'ouagadougou', 'ouango', 'ouesso', 'oum hadjer', 'oussouye', 'ovalle', 'owando', 'paamiut', 'pacific grove', 'paciran', 'padang', 'padron', 'paducah', 'pafos', 'paita', 'pakaur', 'pakwach', 'palabuhanratu', 'palamos', 'palana', 'pali', 'pallasovka', 'palmas bellas', 'palmer', 'palora', 'pangkalanbuun', 'pangnirtung', 'pangody', 'panjab', 'panuco', 'paradwip', 'paragominas', 'paramonga', 'parintins', 'pascagoula', 'pashiya', 'pasighat', 'pasni', 'pasuruan', 'pathein', 'patnongon', 'pauini', 'payakumbuh', 'payo', 'pechenga', 'pelym', 'pemangkat', 'penapolis', 'pendleton', 'penukonda', 'penzance', 'perni', 'perugia', 'peski', 'petropavlovsk-kamchatskiy', 'pevek', 'phan rang', 'phuket', 'pierre', 'pinsk', 'piracanjuba', 'piranhas', 'piripiri', 'pisco', 'piste', 'pithoragarh', 'pitimbu', 'plavinas', 'plettenberg bay', 'pochutla', 'polovinnoye', 'polyanka', 'pondicherry', 'ponta delgada', 'ponta do sol', 'porangatu', 'poronaysk', 'port alfred', 'port augusta', 'port blair', 'port charlotte', 'port elizabeth', 'port hardy', 'port hawkesbury', 'port hedland', 'port huron', 'port keats', 'port lincoln', 'port macquarie', 'port-cartier', 'port-gentil', 'portland', 'porto novo', 'porto velho', 'porto walter', 'poum', 'poya', 'pozo colorado', 'praia', 'praia da vitoria', 'praya', 'preobrazheniye', 'prince rupert', 'pringsewu', 'priyutnoye', 'progreso', 'promyshlennaya', 'providencia', 'provideniya', 'pryluky', 'pucallpa', 'puerto asis', 'puerto ayacucho', 'puerto ayora', 'puerto carreno', 'puerto colombia', 'puerto del rosario', 'puerto escondido', 'puerto gaitan', 'puerto narino', 'puerto quijarro', 'punta arenas', 'puri', 'puruaran', 'pyu', 'qaanaaq', 'qaqortoq', 'qasigiannguit', 'qianan', 'qingan', 'quatre cocos', 'quchan', 'quelimane', 'quezon', 'quimper', 'qujing', 'qunduz', 'raahe', 'radomsko', 'rafai', 'rajshahi', 'ranfurly', 'rapid city', 'rapid valley', 'raposa', 'ratnagiri', 'raton', 'raudeberg', 'rawannawi', 'rawson', 'remanso', 'ribeira grande', 'richards bay', 'ridgecrest', 'rikitea', 'rio gallegos', 'rio grande', 'riohacha', 'rioja', 'rivadavia', 'riyadh', 'roald', 'rock sound', 'rodrigues alves', 'roma', 'romans-sur-isere', 'rondonopolis', 'rovaniemi', 'ruatoria', 'rudsar', 'ruidoso', 'rumonge', 'rundu', 'rungata', 'russell', 'russkaya polyana', 'ryotsu', 'sabha', 'safford', 'safwah', 'sahrak', 'saint anthony', 'saint cloud', 'saint george', 'saint marys', 'saint-augustin', 'saint-denis', 'saint-gabriel', 'saint-georges', 'saint-joseph', 'saint-junien', 'saint-paul', 'saint-philippe', 'saint-pierre', 'sakakah', 'salalah', 'salamanca', 'saldanha', 'sale', 'saleaula', 'salekhard', 'salina cruz', 'salinopolis', 'saltpond', 'samagaltay', 'samalaeulu', 'samana', 'samarai', 'sambava', 'samusu', 'san cristobal', 'san fernando', 'san francisco', 'san javier', 'san jeronimo', 'san jose', 'san juan', 'san juan bautista', 'san luis', 'san patricio', 'san pedro', 'san policarpo', 'san quintin', 'san vicente', 'sandpoint', 'santa cruz', 'santa cruz de tenerife', 'santa fe', 'santa isabel', 'santa lucia', 'santa maria', 'santa rosa', 'santo antonio do ica', 'sao felix do xingu', 'sao filipe', 'sao joao da barra', 'sao joao dos patos', 'sao jose da coroa grande', 'sao miguel', 'sapele', 'saquarema', 'saskylakh', 'savinskiy', 'schladming', 'sebaste', 'sechura', 'sedelnikovo', 'sekoma', 'sembe', 'senekal', 'sentyabrskiy', 'seoul', 'sept-iles', 'serrinha', 'severo-kurilsk', 'severo-yeniseyskiy', 'severobaykalsk', 'seydi', 'seydisehir', 'seymchan', 'shache', 'shadegan', 'shakawe', 'sharan', 'sharanga', 'shediac', 'shenjiamen', 'shihezi', 'shimoda', 'shingu', 'shirokiy', 'shiyan', 'shubarkuduk', 'shubarshi', 'shumskiy', 'shush', 'sibolga', 'sicamous', 'sinazongwe', 'siniscola', 'sinjar', 'sinnamary', 'siocon', 'sirjan', 'sisimiut', 'sistranda', 'sitka', 'skagastrond', 'skalistyy', 'skeldon', 'skjervoy', 'slatina', 'slave lake', 'slobozia', 'slonim', 'smithers', 'sobolevo', 'sodertalje', 'soe', 'sokolka', 'sola', 'solovetskiy', 'sorland', 'sorong', 'sorvag', 'souillac', 'southbridge', 'sovetskiy', 'spring valley', 'springbok', 'springdale', 'srandakan', 'srednekolymsk', 'sri aman', 'srikakulam', 'stanislav', 'stantsiya gorchakovo', 'starogard gdanski', 'staryy nadym', 'stawell', 'steamboat springs', 'steinbach', 'sterling', 'stilfontein', 'stokmarknes', 'stornoway', 'sujawal', 'sundumbili', 'sungai besar', 'sungaipenuh', 'sungairaya', 'sur', 'surgut', 'svetlaya', 'svetlogorsk', 'svetlyy', 'swan hill', 'sweetwater', 'tabas', 'tabiauea', 'tabuk', 'tabuny', 'taburi', 'tacadang', 'tadine', 'taguatinga', 'tahoua', 'takoradi', 'talah', 'talara', 'talnakh', 'taltal', 'tambilil', 'tamiahua', 'tancuayalab', 'tandil', 'tanete', 'tanggu', 'tankhoy', 'taolanaro', 'taoudenni', 'tarancon', 'tarudant', 'tasbuget', 'tasiilaq', 'tautira', 'tawkar', 'taywarah', 'te anau', 'tecpan', 'teguise', 'teguldet', 'teknaf', 'temaraia', 'tena', 'teneguiban', 'tessalit', 'tete', 'teya', 'tezu', 'the pas', 'the valley', 'thilogne', 'thompson', 'tiarei', 'tias', 'tiassale', 'tidore', 'tigil', 'tigzirt', 'tiksi', 'tilichiki', 'tinde', 'tiznit', 'toba', 'togur', 'tokuyama', 'tomatlan', 'tommot', 'tongliao', 'tonj', 'topeka', 'toppenish', 'torbat-e jam', 'torbay', 'tortoli', 'totness', 'totskoye', 'touros', 'trairi', 'trat', 'trelew', 'trincomalee', 'trinidad', 'trois-pistoles', 'tromso', 'tselinnoye', 'tsienyane', 'tsihombe', 'tsirguliina', 'tsurugi', 'tuatapere', 'tucumcari', 'tuktoyaktuk', 'tulum', 'tumannyy', 'tumut', 'tura', 'turiacu', 'turochak', 'turukhansk', 'tutoia', 'ucluelet', 'udachnyy', 'ugoofaaru', 'uige', 'ulaangom', 'umm durman', 'umzimvubu', 'undory', 'upernavik', 'urengoy', 'urucui', 'urusha', 'ushibuka', 'ushtobe', 'ushuaia', 'usinsk', 'ust-barguzin', 'ust-kamchatsk', 'ust-maya', 'utiroa', 'uzumlu', 'vadso', 'vaini', 'vaitupu', 'vallenar', 'valparaiso', 'vanavara', 'vanimo', 'vao', 'varberg', 'vardo', 'varhaug', 'ventspils', 'veraval', 'verkh-usugli', 'verkhnevilyuysk', 'verkhoyansk', 'veselynove', 'vestmanna', 'vestmannaeyjar', 'victor harbor', 'victoria', 'vidim', 'vila', 'vila do maio', 'vila franca do campo', 'vila velha', 'viligili', 'villanueva de la serena', 'ville-marie', 'visby', 'visimo-utkinsk', 'vostok', 'vredendal', 'vryburg', 'wahiawa', 'wahran', 'waipawa', 'wakkanai', 'walvis bay', 'wanning', 'wardha', 'warqla', 'weligama', 'wellsford', 'werota', 'west wendover', 'westport', 'whitehorse', 'whitianga', 'williston', 'willowmore', 'wilmington', 'winburg', 'woodward', 'wurselen', 'xiangdong', 'ximei', 'xinzhi', 'xinzhou', 'yaan', 'yaitepec', 'yanam', 'yantal', 'yar-sale', 'yarada', 'yatou', 'yellowknife', 'yendi', 'yeppoon', 'yerbogachen', 'yilan', 'yingzhong', 'yirol', 'ystad', 'yulara', 'yumen', 'zabaykalsk', 'zakamensk', 'zalantun', 'zaranj', 'zarate', 'zaterechnyy', 'zaysan', 'zhangye', 'zhigansk', 'zhongshu', 'zolotinka', 'zonguldak', 'zyryanka']\n"
     ]
    }
   ],
   "source": [
    "#Get a list of random cities from the citipy library\n",
    "#intialize empty lists: cities, cities_final\n",
    "cities = []\n",
    "cities_final = []\n",
    "\n",
    "#Loop for a certain amount of times\n",
    "for x in range (5000):\n",
    "    #set random coordinate values (latitude and longitude)\n",
    "    lat = np.random.uniform(-90.000, 90.000)\n",
    "    lon = np.random.uniform(-180.000,180.000)\n",
    "    #Find city closest to the coordinate values: Use Citipy library\n",
    "    city_obj = citipy.nearest_city(lat,lon)\n",
    "    #Set variables city_name, country_code; to the name of the city and the country code for that city\n",
    "    city_name = city_obj.city_name\n",
    "    country_code = city_obj.country_code\n",
    "    #Add the city_name to the cities list\n",
    "    cities.append(city_name)\n",
    "\n",
    "    #print(city_name, country_code)\n",
    "    \n",
    "#sort the list of cities\n",
    "cities = sorted(cities)\n",
    "\n",
    "#print(cities)\n",
    "\n",
    "\n",
    "#Remove recurring cities in cities list and store values in cities_final\n",
    "for city in cities:\n",
    "    #Conditional Statement: checks if the value already exists in cities_final and appends only if it is not in the list\n",
    "    if city not in cities_final:\n",
    "        cities_final.append(city)\n",
    "print(cities_final)"
   ]
  },
  {
   "cell_type": "code",
   "execution_count": null,
   "metadata": {},
   "outputs": [],
   "source": [
    "\n",
    "\n",
    "\n"
   ]
  },
  {
   "cell_type": "code",
   "execution_count": 51,
   "metadata": {},
   "outputs": [],
   "source": [
    "#Build for loop with random generator"
   ]
  },
  {
   "cell_type": "code",
   "execution_count": null,
   "metadata": {},
   "outputs": [],
   "source": []
  },
  {
   "cell_type": "code",
   "execution_count": null,
   "metadata": {},
   "outputs": [],
   "source": []
  }
 ],
 "metadata": {
  "kernelspec": {
   "display_name": "Python 3",
   "language": "python",
   "name": "python3"
  },
  "language_info": {
   "codemirror_mode": {
    "name": "ipython",
    "version": 3
   },
   "file_extension": ".py",
   "mimetype": "text/x-python",
   "name": "python",
   "nbconvert_exporter": "python",
   "pygments_lexer": "ipython3",
   "version": "3.7.1"
  }
 },
 "nbformat": 4,
 "nbformat_minor": 2
}
